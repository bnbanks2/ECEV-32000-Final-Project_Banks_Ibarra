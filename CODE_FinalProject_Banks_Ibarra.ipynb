{
 "cells": [
  {
   "cell_type": "code",
   "execution_count": 719,
   "metadata": {},
   "outputs": [
    {
     "name": "stdout",
     "output_type": "stream",
     "text": [
      "/Users/user/Desktop\n"
     ]
    }
   ],
   "source": [
    "import os\n",
    "cwd = os.getcwd()\n",
    "print(cwd)"
   ]
  },
  {
   "cell_type": "code",
   "execution_count": 720,
   "metadata": {},
   "outputs": [],
   "source": [
    "os.chdir('/Users/user/desktop')"
   ]
  },
  {
   "cell_type": "code",
   "execution_count": 721,
   "metadata": {},
   "outputs": [],
   "source": [
    "#This library allows to read and format Excel files\n",
    "import xlrd "
   ]
  },
  {
   "cell_type": "code",
   "execution_count": 722,
   "metadata": {},
   "outputs": [],
   "source": [
    "#import working data which contains CALR vs. CALR mutant RNA seq. results and the lists of genes associated with the unfolded protein response (UPR) and Glycolysis (Gly) pathways obtained from Reactome database\n",
    "import pandas as pd\n",
    "xl = pd.ExcelFile(\"RNAseqdata.xls\")\n"
   ]
  },
  {
   "cell_type": "code",
   "execution_count": 723,
   "metadata": {},
   "outputs": [
    {
     "data": {
      "text/html": [
       "<div>\n",
       "<style scoped>\n",
       "    .dataframe tbody tr th:only-of-type {\n",
       "        vertical-align: middle;\n",
       "    }\n",
       "\n",
       "    .dataframe tbody tr th {\n",
       "        vertical-align: top;\n",
       "    }\n",
       "\n",
       "    .dataframe thead th {\n",
       "        text-align: right;\n",
       "    }\n",
       "</style>\n",
       "<table border=\"1\" class=\"dataframe\">\n",
       "  <thead>\n",
       "    <tr style=\"text-align: right;\">\n",
       "      <th></th>\n",
       "      <th>NAME</th>\n",
       "      <th>SCORE</th>\n",
       "    </tr>\n",
       "  </thead>\n",
       "  <tbody>\n",
       "    <tr>\n",
       "      <td>0</td>\n",
       "      <td>CD53</td>\n",
       "      <td>31.086206</td>\n",
       "    </tr>\n",
       "    <tr>\n",
       "      <td>1</td>\n",
       "      <td>PIM2</td>\n",
       "      <td>30.288067</td>\n",
       "    </tr>\n",
       "    <tr>\n",
       "      <td>2</td>\n",
       "      <td>NSF</td>\n",
       "      <td>29.087437</td>\n",
       "    </tr>\n",
       "    <tr>\n",
       "      <td>3</td>\n",
       "      <td>PSAT1</td>\n",
       "      <td>28.312407</td>\n",
       "    </tr>\n",
       "    <tr>\n",
       "      <td>4</td>\n",
       "      <td>MTHFD2</td>\n",
       "      <td>26.850730</td>\n",
       "    </tr>\n",
       "    <tr>\n",
       "      <td>...</td>\n",
       "      <td>...</td>\n",
       "      <td>...</td>\n",
       "    </tr>\n",
       "    <tr>\n",
       "      <td>16097</td>\n",
       "      <td>F10</td>\n",
       "      <td>-34.502815</td>\n",
       "    </tr>\n",
       "    <tr>\n",
       "      <td>16098</td>\n",
       "      <td>PIK3C2G</td>\n",
       "      <td>-34.909992</td>\n",
       "    </tr>\n",
       "    <tr>\n",
       "      <td>16099</td>\n",
       "      <td>D930015E06RIK</td>\n",
       "      <td>-38.306778</td>\n",
       "    </tr>\n",
       "    <tr>\n",
       "      <td>16100</td>\n",
       "      <td>PLAC8</td>\n",
       "      <td>-39.212330</td>\n",
       "    </tr>\n",
       "    <tr>\n",
       "      <td>16101</td>\n",
       "      <td>NEAT1</td>\n",
       "      <td>-44.626900</td>\n",
       "    </tr>\n",
       "  </tbody>\n",
       "</table>\n",
       "<p>16102 rows × 2 columns</p>\n",
       "</div>"
      ],
      "text/plain": [
       "                NAME      SCORE\n",
       "0               CD53  31.086206\n",
       "1               PIM2  30.288067\n",
       "2                NSF  29.087437\n",
       "3              PSAT1  28.312407\n",
       "4             MTHFD2  26.850730\n",
       "...              ...        ...\n",
       "16097            F10 -34.502815\n",
       "16098        PIK3C2G -34.909992\n",
       "16099  D930015E06RIK -38.306778\n",
       "16100          PLAC8 -39.212330\n",
       "16101          NEAT1 -44.626900\n",
       "\n",
       "[16102 rows x 2 columns]"
      ]
     },
     "execution_count": 723,
     "metadata": {},
     "output_type": "execute_result"
    }
   ],
   "source": [
    "#Select colums of interest in the CALR vs. CALR mutant RNA Seq: we are only interested in the gene NAME and their expression score \n",
    "cols = ['NAME', 'SCORE']\n",
    "df = xl.parse(\"RNAseq\")\n",
    "df.drop('DESCRIPTION', axis =1, inplace = True)\n",
    "df.drop('GENE_SYMBOL', axis =1, inplace = True)\n",
    "df.drop('GENE_TITLE', axis =1, inplace = True)\n",
    "df"
   ]
  },
  {
   "cell_type": "code",
   "execution_count": 724,
   "metadata": {},
   "outputs": [
    {
     "data": {
      "text/html": [
       "<div>\n",
       "<style scoped>\n",
       "    .dataframe tbody tr th:only-of-type {\n",
       "        vertical-align: middle;\n",
       "    }\n",
       "\n",
       "    .dataframe tbody tr th {\n",
       "        vertical-align: top;\n",
       "    }\n",
       "\n",
       "    .dataframe thead th {\n",
       "        text-align: right;\n",
       "    }\n",
       "</style>\n",
       "<table border=\"1\" class=\"dataframe\">\n",
       "  <thead>\n",
       "    <tr style=\"text-align: right;\">\n",
       "      <th></th>\n",
       "      <th>NAME</th>\n",
       "      <th>SCORE</th>\n",
       "    </tr>\n",
       "  </thead>\n",
       "  <tbody>\n",
       "    <tr>\n",
       "      <td>16101</td>\n",
       "      <td>NEAT1</td>\n",
       "      <td>-44.626900</td>\n",
       "    </tr>\n",
       "    <tr>\n",
       "      <td>16100</td>\n",
       "      <td>PLAC8</td>\n",
       "      <td>-39.212330</td>\n",
       "    </tr>\n",
       "    <tr>\n",
       "      <td>16099</td>\n",
       "      <td>D930015E06RIK</td>\n",
       "      <td>-38.306778</td>\n",
       "    </tr>\n",
       "    <tr>\n",
       "      <td>16098</td>\n",
       "      <td>PIK3C2G</td>\n",
       "      <td>-34.909992</td>\n",
       "    </tr>\n",
       "    <tr>\n",
       "      <td>16097</td>\n",
       "      <td>F10</td>\n",
       "      <td>-34.502815</td>\n",
       "    </tr>\n",
       "    <tr>\n",
       "      <td>...</td>\n",
       "      <td>...</td>\n",
       "      <td>...</td>\n",
       "    </tr>\n",
       "    <tr>\n",
       "      <td>4</td>\n",
       "      <td>MTHFD2</td>\n",
       "      <td>26.850730</td>\n",
       "    </tr>\n",
       "    <tr>\n",
       "      <td>3</td>\n",
       "      <td>PSAT1</td>\n",
       "      <td>28.312407</td>\n",
       "    </tr>\n",
       "    <tr>\n",
       "      <td>2</td>\n",
       "      <td>NSF</td>\n",
       "      <td>29.087437</td>\n",
       "    </tr>\n",
       "    <tr>\n",
       "      <td>1</td>\n",
       "      <td>PIM2</td>\n",
       "      <td>30.288067</td>\n",
       "    </tr>\n",
       "    <tr>\n",
       "      <td>0</td>\n",
       "      <td>CD53</td>\n",
       "      <td>31.086206</td>\n",
       "    </tr>\n",
       "  </tbody>\n",
       "</table>\n",
       "<p>16102 rows × 2 columns</p>\n",
       "</div>"
      ],
      "text/plain": [
       "                NAME      SCORE\n",
       "16101          NEAT1 -44.626900\n",
       "16100          PLAC8 -39.212330\n",
       "16099  D930015E06RIK -38.306778\n",
       "16098        PIK3C2G -34.909992\n",
       "16097            F10 -34.502815\n",
       "...              ...        ...\n",
       "4             MTHFD2  26.850730\n",
       "3              PSAT1  28.312407\n",
       "2                NSF  29.087437\n",
       "1               PIM2  30.288067\n",
       "0               CD53  31.086206\n",
       "\n",
       "[16102 rows x 2 columns]"
      ]
     },
     "execution_count": 724,
     "metadata": {},
     "output_type": "execute_result"
    }
   ],
   "source": [
    "#sort CALR vs. CALR mutant RNA Seq. genes by the given expression score from lowest to highest\n",
    "\n",
    "df = df.sort_values(by=['SCORE'])\n",
    "df"
   ]
  },
  {
   "cell_type": "code",
   "execution_count": 725,
   "metadata": {},
   "outputs": [],
   "source": [
    "#set threshold and define range of genes thought to be signicantly upregulated based on threshold (threshold value can be set based on the literature, in this case we use 10 as an arbitrary value)\n",
    "#Anything above score 10 is considered signifincantly upregulated \n",
    "#Define upregulated genes dataframe\n",
    "df_Upregulated = df[df['SCORE'] >= 10] "
   ]
  },
  {
   "cell_type": "code",
   "execution_count": 726,
   "metadata": {},
   "outputs": [
    {
     "name": "stdout",
     "output_type": "stream",
     "text": [
      "        NAME      SCORE\n",
      "610    SYNE3  10.003552\n",
      "609   CRYZL1  10.004596\n",
      "608  SMARCA5  10.007616\n",
      "607     NIP7  10.013830\n",
      "606    NDC80  10.020450\n",
      "..       ...        ...\n",
      "4     MTHFD2  26.850730\n",
      "3      PSAT1  28.312407\n",
      "2        NSF  29.087437\n",
      "1       PIM2  30.288067\n",
      "0       CD53  31.086206\n",
      "\n",
      "[611 rows x 2 columns]\n"
     ]
    }
   ],
   "source": [
    "#list of significantly upregulated genes\n",
    "print (df_Upregulated [['NAME', 'SCORE']])"
   ]
  },
  {
   "cell_type": "code",
   "execution_count": 727,
   "metadata": {},
   "outputs": [],
   "source": [
    "#Graphing of the significantly upregulated genes, this gives the user the ability to visualize the general trend of the results\n",
    "import matplotlib.pyplot as plt \n",
    "import numpy as np \n",
    "from matplotlib.ticker import StrMethodFormatter"
   ]
  },
  {
   "cell_type": "code",
   "execution_count": 728,
   "metadata": {},
   "outputs": [
    {
     "data": {
      "text/plain": [
       "<matplotlib.axes._subplots.AxesSubplot at 0x12d19e410>"
      ]
     },
     "execution_count": 728,
     "metadata": {},
     "output_type": "execute_result"
    },
    {
     "data": {
      "image/png": "[encoded data removed]",
      "text/plain": [
       "<Figure size 432x288 with 1 Axes>"
      ]
     },
     "metadata": {
      "needs_background": "light"
     },
     "output_type": "display_data"
    }
   ],
   "source": [
    "#Graph significantly upregulated genes \n",
    "df_Upregulated.plot(x='NAME', y='SCORE')"
   ]
  },
  {
   "cell_type": "code",
   "execution_count": 729,
   "metadata": {},
   "outputs": [],
   "source": [
    "#set threshold and define range of genes thought to be signicantly dowregulated based on threshold (threshold value can be set based on the literature, in this case we use -5 as an arbitrary value)\n",
    "#Anything above score -5 is considered signifincantly downregulated \n",
    "#define downregulated genes dataframe\n",
    "df_downregulated = df[df['SCORE'] <= -5] "
   ]
  },
  {
   "cell_type": "code",
   "execution_count": 730,
   "metadata": {},
   "outputs": [
    {
     "name": "stdout",
     "output_type": "stream",
     "text": [
      "                NAME      SCORE\n",
      "16101          NEAT1 -44.626900\n",
      "16100          PLAC8 -39.212330\n",
      "16099  D930015E06RIK -38.306778\n",
      "16098        PIK3C2G -34.909992\n",
      "16097            F10 -34.502815\n",
      "...              ...        ...\n",
      "14776         TRIM11  -5.015011\n",
      "14775         PCNXL3  -5.013907\n",
      "14774          ESYT2  -5.012969\n",
      "14773          SYNE4  -5.005306\n",
      "14772       ANKRD13D  -5.001893\n",
      "\n",
      "[1330 rows x 2 columns]\n"
     ]
    }
   ],
   "source": [
    "#list significantly downregulated genes based on threshold \n",
    "print (df_downregulated [['NAME', 'SCORE']])"
   ]
  },
  {
   "cell_type": "code",
   "execution_count": 731,
   "metadata": {},
   "outputs": [
    {
     "data": {
      "text/plain": [
       "<matplotlib.axes._subplots.AxesSubplot at 0x12d0e7990>"
      ]
     },
     "execution_count": 731,
     "metadata": {},
     "output_type": "execute_result"
    },
    {
     "data": {
      "image/png": "[encoded data removed]",
      "text/plain": [
       "<Figure size 432x288 with 1 Axes>"
      ]
     },
     "metadata": {
      "needs_background": "light"
     },
     "output_type": "display_data"
    }
   ],
   "source": [
    "#Graph of significantly downregulated genes\n",
    "df_low.plot(x='NAME', y='SCORE')"
   ]
  },
  {
   "cell_type": "code",
   "execution_count": 732,
   "metadata": {},
   "outputs": [
    {
     "data": {
      "text/html": [
       "<div>\n",
       "<style scoped>\n",
       "    .dataframe tbody tr th:only-of-type {\n",
       "        vertical-align: middle;\n",
       "    }\n",
       "\n",
       "    .dataframe tbody tr th {\n",
       "        vertical-align: top;\n",
       "    }\n",
       "\n",
       "    .dataframe thead th {\n",
       "        text-align: right;\n",
       "    }\n",
       "</style>\n",
       "<table border=\"1\" class=\"dataframe\">\n",
       "  <thead>\n",
       "    <tr style=\"text-align: right;\">\n",
       "      <th></th>\n",
       "      <th>Symbol</th>\n",
       "    </tr>\n",
       "  </thead>\n",
       "  <tbody>\n",
       "    <tr>\n",
       "      <td>0</td>\n",
       "      <td>ACADVL</td>\n",
       "    </tr>\n",
       "    <tr>\n",
       "      <td>1</td>\n",
       "      <td>ADD1</td>\n",
       "    </tr>\n",
       "    <tr>\n",
       "      <td>2</td>\n",
       "      <td>ARFGAP1</td>\n",
       "    </tr>\n",
       "    <tr>\n",
       "      <td>3</td>\n",
       "      <td>ASNS</td>\n",
       "    </tr>\n",
       "    <tr>\n",
       "      <td>4</td>\n",
       "      <td>ATF3</td>\n",
       "    </tr>\n",
       "    <tr>\n",
       "      <td>...</td>\n",
       "      <td>...</td>\n",
       "    </tr>\n",
       "    <tr>\n",
       "      <td>74</td>\n",
       "      <td>WFS1</td>\n",
       "    </tr>\n",
       "    <tr>\n",
       "      <td>75</td>\n",
       "      <td>WIPI1</td>\n",
       "    </tr>\n",
       "    <tr>\n",
       "      <td>76</td>\n",
       "      <td>XBP1</td>\n",
       "    </tr>\n",
       "    <tr>\n",
       "      <td>77</td>\n",
       "      <td>YIF1A</td>\n",
       "    </tr>\n",
       "    <tr>\n",
       "      <td>78</td>\n",
       "      <td>ZBTB17</td>\n",
       "    </tr>\n",
       "  </tbody>\n",
       "</table>\n",
       "<p>79 rows × 1 columns</p>\n",
       "</div>"
      ],
      "text/plain": [
       "     Symbol\n",
       "0    ACADVL\n",
       "1      ADD1\n",
       "2   ARFGAP1\n",
       "3      ASNS\n",
       "4      ATF3\n",
       "..      ...\n",
       "74     WFS1\n",
       "75    WIPI1\n",
       "76     XBP1\n",
       "77    YIF1A\n",
       "78   ZBTB17\n",
       "\n",
       "[79 rows x 1 columns]"
      ]
     },
     "execution_count": 732,
     "metadata": {},
     "output_type": "execute_result"
    }
   ],
   "source": [
    "#Select UPR associated genes to be matched against significantly down or upregulated RNA seq. genes\n",
    "#Discriminate columns: only information required from the UPR associated genes data is the gene \"symbol\"\n",
    "cols = ['Symbol']\n",
    "df = xl.parse(\"UPR\")\n",
    "df"
   ]
  },
  {
   "cell_type": "code",
   "execution_count": 733,
   "metadata": {},
   "outputs": [],
   "source": [
    "#Define UPR associated genes as dataframe\n",
    "df_upr = xl.parse(\"UPR\")"
   ]
  },
  {
   "cell_type": "code",
   "execution_count": 734,
   "metadata": {},
   "outputs": [
    {
     "name": "stdout",
     "output_type": "stream",
     "text": [
      "     Symbol\n",
      "0    ACADVL\n",
      "1      ADD1\n",
      "2   ARFGAP1\n",
      "3      ASNS\n",
      "4      ATF3\n",
      "..      ...\n",
      "74     WFS1\n",
      "75    WIPI1\n",
      "76     XBP1\n",
      "77    YIF1A\n",
      "78   ZBTB17\n",
      "\n",
      "[79 rows x 1 columns]\n"
     ]
    }
   ],
   "source": [
    "#check/list UPR data frame\n",
    "print (df_upr)"
   ]
  },
  {
   "cell_type": "code",
   "execution_count": 735,
   "metadata": {},
   "outputs": [],
   "source": [
    "#Write UPR and RNA seq. upregulated genes in one excel file named UPRUpMatch.xlsx\n",
    "from pandas import ExcelWriter\n",
    "writer = pd.ExcelWriter('UPRUpMatch.xlsx')\n",
    "df_upr.to_excel(writer,'one', startrow=0 , startcol=0)\n",
    "df_Upregulated.to_excel(writer,'one', startrow=0, startcol=2)\n",
    "writer.save()"
   ]
  },
  {
   "cell_type": "code",
   "execution_count": 736,
   "metadata": {},
   "outputs": [
    {
     "data": {
      "text/html": [
       "<div>\n",
       "<style scoped>\n",
       "    .dataframe tbody tr th:only-of-type {\n",
       "        vertical-align: middle;\n",
       "    }\n",
       "\n",
       "    .dataframe tbody tr th {\n",
       "        vertical-align: top;\n",
       "    }\n",
       "\n",
       "    .dataframe thead th {\n",
       "        text-align: right;\n",
       "    }\n",
       "</style>\n",
       "<table border=\"1\" class=\"dataframe\">\n",
       "  <thead>\n",
       "    <tr style=\"text-align: right;\">\n",
       "      <th></th>\n",
       "      <th>Symbol</th>\n",
       "      <th>NAME</th>\n",
       "      <th>SCORE</th>\n",
       "    </tr>\n",
       "  </thead>\n",
       "  <tbody>\n",
       "    <tr>\n",
       "      <td>12</td>\n",
       "      <td>CXCL8</td>\n",
       "      <td>EXOSC2</td>\n",
       "      <td>10.054875</td>\n",
       "    </tr>\n",
       "    <tr>\n",
       "      <td>58</td>\n",
       "      <td>PDIA6</td>\n",
       "      <td>DNAJB11</td>\n",
       "      <td>10.422532</td>\n",
       "    </tr>\n",
       "    <tr>\n",
       "      <td>81</td>\n",
       "      <td>NaN</td>\n",
       "      <td>EIF2S1</td>\n",
       "      <td>10.598577</td>\n",
       "    </tr>\n",
       "    <tr>\n",
       "      <td>188</td>\n",
       "      <td>NaN</td>\n",
       "      <td>EXOSC8</td>\n",
       "      <td>11.372314</td>\n",
       "    </tr>\n",
       "    <tr>\n",
       "      <td>214</td>\n",
       "      <td>NaN</td>\n",
       "      <td>ATF6</td>\n",
       "      <td>11.616917</td>\n",
       "    </tr>\n",
       "    <tr>\n",
       "      <td>232</td>\n",
       "      <td>NaN</td>\n",
       "      <td>PDIA6</td>\n",
       "      <td>11.781059</td>\n",
       "    </tr>\n",
       "    <tr>\n",
       "      <td>257</td>\n",
       "      <td>NaN</td>\n",
       "      <td>HYOU1</td>\n",
       "      <td>12.013284</td>\n",
       "    </tr>\n",
       "    <tr>\n",
       "      <td>514</td>\n",
       "      <td>NaN</td>\n",
       "      <td>ATF4</td>\n",
       "      <td>16.686472</td>\n",
       "    </tr>\n",
       "    <tr>\n",
       "      <td>601</td>\n",
       "      <td>NaN</td>\n",
       "      <td>ASNS</td>\n",
       "      <td>25.177706</td>\n",
       "    </tr>\n",
       "  </tbody>\n",
       "</table>\n",
       "</div>"
      ],
      "text/plain": [
       "    Symbol     NAME      SCORE\n",
       "12   CXCL8   EXOSC2  10.054875\n",
       "58   PDIA6  DNAJB11  10.422532\n",
       "81     NaN   EIF2S1  10.598577\n",
       "188    NaN   EXOSC8  11.372314\n",
       "214    NaN     ATF6  11.616917\n",
       "232    NaN    PDIA6  11.781059\n",
       "257    NaN    HYOU1  12.013284\n",
       "514    NaN     ATF4  16.686472\n",
       "601    NaN     ASNS  25.177706"
      ]
     },
     "execution_count": 736,
     "metadata": {},
     "output_type": "execute_result"
    }
   ],
   "source": [
    "#Drop non-required colums/data from data imported in the UPRUpMatch.xlsx\n",
    "#Match UPR and Upregulated genes based gene name\n",
    "#Whichever genes are found in both or match UPR and RNA seq. upregulated columns will appear in list below with the corresponding expression score\n",
    "import pandas as pd\n",
    "df = pd.read_excel('UPRUpMatch.xlsx')\n",
    "df.drop(df.columns[df.columns.str.contains('Unnamed',case = False)],axis = 1, inplace = True)\n",
    "result = df[df['NAME'].isin(list(df['Symbol']))]\n",
    "result"
   ]
  },
  {
   "cell_type": "code",
   "execution_count": 737,
   "metadata": {},
   "outputs": [],
   "source": [
    "#Import the chart above as output into a seperate excel sheet named UPRUpGraph.xlsx\n",
    "\n",
    "from pandas import ExcelWriter\n",
    "\n",
    "writer = ExcelWriter('UPRUpGraph.xlsx')\n",
    "result.to_excel(writer,'one',index=False)\n",
    "writer.save()"
   ]
  },
  {
   "cell_type": "code",
   "execution_count": 738,
   "metadata": {},
   "outputs": [],
   "source": [
    "#Generate graph of the matched UPR and Upregulated RNA Seq. genes \n",
    "import pandas as pd\n",
    "import matplotlib.pyplot as plt\n",
    "import matplotlib.ticker as ticker\n",
    "import matplotlib.animation as animation\n",
    "from IPython.display import HTML"
   ]
  },
  {
   "cell_type": "code",
   "execution_count": 739,
   "metadata": {},
   "outputs": [
    {
     "data": {
      "text/plain": [
       "Text(0, 1.12, 'UPR vs. RNASeq Matching Upregulated Genes')"
      ]
     },
     "execution_count": 739,
     "metadata": {},
     "output_type": "execute_result"
    },
    {
     "data": {
      "image/png": "[encoded data removed]",
      "text/plain": [
       "<Figure size 576x288 with 1 Axes>"
      ]
     },
     "metadata": {
      "needs_background": "light"
     },
     "output_type": "display_data"
    }
   ],
   "source": [
    "#Graph matched genes (include gene name and expression score) \n",
    "\n",
    "df = pd.read_excel('UpGraph.xlsx', usecols =['NAME', 'SCORE'])\n",
    "fig, ax = plt.subplots(figsize=(8, 4))\n",
    "ax.barh(df['NAME'], df['SCORE'])\n",
    "ax.text(0, 1.12, 'UPR vs. RNASeq Matching Upregulated Genes',\n",
    "            transform=ax.transAxes, size=24, weight=600, ha='left')\n"
   ]
  },
  {
   "cell_type": "code",
   "execution_count": 740,
   "metadata": {},
   "outputs": [],
   "source": [
    "#Write UPR and RNA seq. dowregulated genes in one excel file named UPRDownMatch.xlsx\n",
    "writer = pd.ExcelWriter('UPRDownMatch.xlsx')\n",
    "df_upr.to_excel(writer,'one', startrow=0 , startcol=0)\n",
    "df_low.to_excel(writer,'one', startrow=0, startcol=2)\n",
    "writer.save()"
   ]
  },
  {
   "cell_type": "code",
   "execution_count": 741,
   "metadata": {},
   "outputs": [
    {
     "data": {
      "text/html": [
       "<div>\n",
       "<style scoped>\n",
       "    .dataframe tbody tr th:only-of-type {\n",
       "        vertical-align: middle;\n",
       "    }\n",
       "\n",
       "    .dataframe tbody tr th {\n",
       "        vertical-align: top;\n",
       "    }\n",
       "\n",
       "    .dataframe thead th {\n",
       "        text-align: right;\n",
       "    }\n",
       "</style>\n",
       "<table border=\"1\" class=\"dataframe\">\n",
       "  <thead>\n",
       "    <tr style=\"text-align: right;\">\n",
       "      <th></th>\n",
       "      <th>Symbol</th>\n",
       "      <th>NAME</th>\n",
       "      <th>SCORE</th>\n",
       "    </tr>\n",
       "  </thead>\n",
       "  <tbody>\n",
       "    <tr>\n",
       "      <td>61</td>\n",
       "      <td>PREB</td>\n",
       "      <td>ERN1</td>\n",
       "      <td>-20.256012</td>\n",
       "    </tr>\n",
       "    <tr>\n",
       "      <td>455</td>\n",
       "      <td>NaN</td>\n",
       "      <td>TPP1</td>\n",
       "      <td>-9.285360</td>\n",
       "    </tr>\n",
       "    <tr>\n",
       "      <td>898</td>\n",
       "      <td>NaN</td>\n",
       "      <td>PLA2G4B</td>\n",
       "      <td>-6.491310</td>\n",
       "    </tr>\n",
       "    <tr>\n",
       "      <td>1230</td>\n",
       "      <td>NaN</td>\n",
       "      <td>ADD1</td>\n",
       "      <td>-5.280332</td>\n",
       "    </tr>\n",
       "  </tbody>\n",
       "</table>\n",
       "</div>"
      ],
      "text/plain": [
       "     Symbol     NAME      SCORE\n",
       "61     PREB     ERN1 -20.256012\n",
       "455     NaN     TPP1  -9.285360\n",
       "898     NaN  PLA2G4B  -6.491310\n",
       "1230    NaN     ADD1  -5.280332"
      ]
     },
     "execution_count": 741,
     "metadata": {},
     "output_type": "execute_result"
    }
   ],
   "source": [
    "#Match UPR and dowregulated genes based gene name\n",
    "#Whichever genes are found in both or match UPR and RNA seq. downregulated columns will appear in list below with the corresponding expression score\n",
    "df = pd.read_excel('UPRDownMatch.xlsx')\n",
    "df.drop(df.columns[df.columns.str.contains('Unnamed',case = False)],axis = 1, inplace = True)\n",
    "result = df[df['NAME'].isin(list(df['Symbol']))]\n",
    "result"
   ]
  },
  {
   "cell_type": "code",
   "execution_count": 742,
   "metadata": {},
   "outputs": [],
   "source": [
    "#Import the chart above as output into a seperate excel sheet named UPRDownGraph.xlsx\n",
    "writer = ExcelWriter('UPRDownGraph.xlsx')\n",
    "result.to_excel(writer,'one',index=False)\n",
    "writer.save()"
   ]
  },
  {
   "cell_type": "code",
   "execution_count": 743,
   "metadata": {},
   "outputs": [
    {
     "data": {
      "text/plain": [
       "Text(0, 1.12, 'UPR vs. RNASeq Matching Downregulated Genes')"
      ]
     },
     "execution_count": 743,
     "metadata": {},
     "output_type": "execute_result"
    },
    {
     "data": {
      "image/png": "[encoded data removed]",
      "text/plain": [
       "<Figure size 576x288 with 1 Axes>"
      ]
     },
     "metadata": {
      "needs_background": "light"
     },
     "output_type": "display_data"
    }
   ],
   "source": [
    "#Generate graph of the matched UPR and downregulated RNA Seq. genes \n",
    "#Graph matched genes (include gene name and score)\n",
    "\n",
    "df = pd.read_excel('UPRDownGraph.xlsx', usecols =['NAME', 'SCORE'])\n",
    "fig, ax = plt.subplots(figsize=(8, 4))\n",
    "ax.barh(df['NAME'], df['SCORE'])\n",
    "ax.text(0, 1.12, 'UPR vs. RNASeq Matching Downregulated Genes',\n",
    "            transform=ax.transAxes, size=24, weight=600, ha='left')"
   ]
  },
  {
   "cell_type": "code",
   "execution_count": 744,
   "metadata": {},
   "outputs": [
    {
     "data": {
      "text/html": [
       "<div>\n",
       "<style scoped>\n",
       "    .dataframe tbody tr th:only-of-type {\n",
       "        vertical-align: middle;\n",
       "    }\n",
       "\n",
       "    .dataframe tbody tr th {\n",
       "        vertical-align: top;\n",
       "    }\n",
       "\n",
       "    .dataframe thead th {\n",
       "        text-align: right;\n",
       "    }\n",
       "</style>\n",
       "<table border=\"1\" class=\"dataframe\">\n",
       "  <thead>\n",
       "    <tr style=\"text-align: right;\">\n",
       "      <th></th>\n",
       "      <th>Symbol</th>\n",
       "    </tr>\n",
       "  </thead>\n",
       "  <tbody>\n",
       "    <tr>\n",
       "      <td>0</td>\n",
       "      <td>ABCB1</td>\n",
       "    </tr>\n",
       "    <tr>\n",
       "      <td>1</td>\n",
       "      <td>ACLY</td>\n",
       "    </tr>\n",
       "    <tr>\n",
       "      <td>2</td>\n",
       "      <td>ACMSD</td>\n",
       "    </tr>\n",
       "    <tr>\n",
       "      <td>3</td>\n",
       "      <td>ACP1</td>\n",
       "    </tr>\n",
       "    <tr>\n",
       "      <td>4</td>\n",
       "      <td>ADA</td>\n",
       "    </tr>\n",
       "    <tr>\n",
       "      <td>...</td>\n",
       "      <td>...</td>\n",
       "    </tr>\n",
       "    <tr>\n",
       "      <td>80</td>\n",
       "      <td>TSC1</td>\n",
       "    </tr>\n",
       "    <tr>\n",
       "      <td>81</td>\n",
       "      <td>UCA1</td>\n",
       "    </tr>\n",
       "    <tr>\n",
       "      <td>82</td>\n",
       "      <td>UCP3</td>\n",
       "    </tr>\n",
       "    <tr>\n",
       "      <td>83</td>\n",
       "      <td>VEGFA</td>\n",
       "    </tr>\n",
       "    <tr>\n",
       "      <td>84</td>\n",
       "      <td>VHL</td>\n",
       "    </tr>\n",
       "  </tbody>\n",
       "</table>\n",
       "<p>85 rows × 1 columns</p>\n",
       "</div>"
      ],
      "text/plain": [
       "   Symbol\n",
       "0   ABCB1\n",
       "1    ACLY\n",
       "2   ACMSD\n",
       "3    ACP1\n",
       "4     ADA\n",
       "..    ...\n",
       "80   TSC1\n",
       "81   UCA1\n",
       "82   UCP3\n",
       "83  VEGFA\n",
       "84    VHL\n",
       "\n",
       "[85 rows x 1 columns]"
      ]
     },
     "execution_count": 744,
     "metadata": {},
     "output_type": "execute_result"
    }
   ],
   "source": [
    "#Select Glycolysis (Gly) associated genes to be matched against significantly down or upregulated RNA seq. genes\n",
    "#Discriminate columns: only information required from the Gly associated genes data is the gene \"symbol\"\n",
    "cols = ['Symbol']\n",
    "df = xl.parse(\"Gly\")\n",
    "df"
   ]
  },
  {
   "cell_type": "code",
   "execution_count": 745,
   "metadata": {},
   "outputs": [],
   "source": [
    "#Define Gly associated genes as dataframe\n",
    "df_Gly = xl.parse(\"Gly\")"
   ]
  },
  {
   "cell_type": "code",
   "execution_count": 746,
   "metadata": {},
   "outputs": [
    {
     "name": "stdout",
     "output_type": "stream",
     "text": [
      "   Symbol\n",
      "0   ABCB1\n",
      "1    ACLY\n",
      "2   ACMSD\n",
      "3    ACP1\n",
      "4     ADA\n",
      "..    ...\n",
      "80   TSC1\n",
      "81   UCA1\n",
      "82   UCP3\n",
      "83  VEGFA\n",
      "84    VHL\n",
      "\n",
      "[85 rows x 1 columns]\n"
     ]
    }
   ],
   "source": [
    "#check/list Gly data frame\n",
    "print (df_Gly)"
   ]
  },
  {
   "cell_type": "code",
   "execution_count": 747,
   "metadata": {},
   "outputs": [],
   "source": [
    "#Write Gly and RNA seq. upregulated genes in one excel file named GlyUpMatch.xlsx\n",
    "\n",
    "writer = pd.ExcelWriter('GlyUpMatch.xlsx')\n",
    "df_Gly.to_excel(writer,'Sheet1', startrow=0 , startcol=0)\n",
    "df_high.to_excel(writer,'Sheet1', startrow=0, startcol=2)\n",
    "writer.save()"
   ]
  },
  {
   "cell_type": "code",
   "execution_count": 748,
   "metadata": {},
   "outputs": [
    {
     "data": {
      "text/html": [
       "<div>\n",
       "<style scoped>\n",
       "    .dataframe tbody tr th:only-of-type {\n",
       "        vertical-align: middle;\n",
       "    }\n",
       "\n",
       "    .dataframe tbody tr th {\n",
       "        vertical-align: top;\n",
       "    }\n",
       "\n",
       "    .dataframe thead th {\n",
       "        text-align: right;\n",
       "    }\n",
       "</style>\n",
       "<table border=\"1\" class=\"dataframe\">\n",
       "  <thead>\n",
       "    <tr style=\"text-align: right;\">\n",
       "      <th></th>\n",
       "      <th>Symbol</th>\n",
       "      <th>NAME</th>\n",
       "      <th>SCORE</th>\n",
       "    </tr>\n",
       "  </thead>\n",
       "  <tbody>\n",
       "    <tr>\n",
       "      <td>88</td>\n",
       "      <td>NaN</td>\n",
       "      <td>ACP1</td>\n",
       "      <td>10.655144</td>\n",
       "    </tr>\n",
       "    <tr>\n",
       "      <td>354</td>\n",
       "      <td>NaN</td>\n",
       "      <td>C1QBP</td>\n",
       "      <td>13.114568</td>\n",
       "    </tr>\n",
       "    <tr>\n",
       "      <td>403</td>\n",
       "      <td>NaN</td>\n",
       "      <td>PCNA</td>\n",
       "      <td>13.705776</td>\n",
       "    </tr>\n",
       "    <tr>\n",
       "      <td>406</td>\n",
       "      <td>NaN</td>\n",
       "      <td>PFKP</td>\n",
       "      <td>13.754307</td>\n",
       "    </tr>\n",
       "    <tr>\n",
       "      <td>426</td>\n",
       "      <td>NaN</td>\n",
       "      <td>MTDH</td>\n",
       "      <td>14.049484</td>\n",
       "    </tr>\n",
       "    <tr>\n",
       "      <td>497</td>\n",
       "      <td>NaN</td>\n",
       "      <td>ENO1</td>\n",
       "      <td>15.826998</td>\n",
       "    </tr>\n",
       "    <tr>\n",
       "      <td>507</td>\n",
       "      <td>NaN</td>\n",
       "      <td>TGFB1</td>\n",
       "      <td>16.503178</td>\n",
       "    </tr>\n",
       "    <tr>\n",
       "      <td>510</td>\n",
       "      <td>NaN</td>\n",
       "      <td>GAPDH</td>\n",
       "      <td>16.606325</td>\n",
       "    </tr>\n",
       "    <tr>\n",
       "      <td>521</td>\n",
       "      <td>NaN</td>\n",
       "      <td>SLC2A3</td>\n",
       "      <td>16.992449</td>\n",
       "    </tr>\n",
       "    <tr>\n",
       "      <td>522</td>\n",
       "      <td>NaN</td>\n",
       "      <td>BIRC5</td>\n",
       "      <td>17.017273</td>\n",
       "    </tr>\n",
       "    <tr>\n",
       "      <td>592</td>\n",
       "      <td>NaN</td>\n",
       "      <td>LDHA</td>\n",
       "      <td>22.457441</td>\n",
       "    </tr>\n",
       "    <tr>\n",
       "      <td>595</td>\n",
       "      <td>NaN</td>\n",
       "      <td>PKM</td>\n",
       "      <td>22.771986</td>\n",
       "    </tr>\n",
       "    <tr>\n",
       "      <td>609</td>\n",
       "      <td>NaN</td>\n",
       "      <td>PIM2</td>\n",
       "      <td>30.288067</td>\n",
       "    </tr>\n",
       "  </tbody>\n",
       "</table>\n",
       "</div>"
      ],
      "text/plain": [
       "    Symbol    NAME      SCORE\n",
       "88     NaN    ACP1  10.655144\n",
       "354    NaN   C1QBP  13.114568\n",
       "403    NaN    PCNA  13.705776\n",
       "406    NaN    PFKP  13.754307\n",
       "426    NaN    MTDH  14.049484\n",
       "497    NaN    ENO1  15.826998\n",
       "507    NaN   TGFB1  16.503178\n",
       "510    NaN   GAPDH  16.606325\n",
       "521    NaN  SLC2A3  16.992449\n",
       "522    NaN   BIRC5  17.017273\n",
       "592    NaN    LDHA  22.457441\n",
       "595    NaN     PKM  22.771986\n",
       "609    NaN    PIM2  30.288067"
      ]
     },
     "execution_count": 748,
     "metadata": {},
     "output_type": "execute_result"
    }
   ],
   "source": [
    "#Drop non-required colums/data from data imported in the GlyUpMatch.xlsx\n",
    "#Match Gly and Upregulated genes based gene name\n",
    "#Whichever genes are found in both or match Gly and RNA seq. upregulated columns will appear in list below with the corresponding expression score\n",
    "\n",
    "df = pd.read_excel('GlyUpMatch.xlsx')\n",
    "df.drop(df.columns[df.columns.str.contains('Unnamed',case = False)],axis = 1, inplace = True)\n",
    "result = df[df['NAME'].isin(list(df['Symbol']))]\n",
    "result"
   ]
  },
  {
   "cell_type": "code",
   "execution_count": 749,
   "metadata": {},
   "outputs": [],
   "source": [
    "#Import the above chart of matching genes as output into a seperate excel sheet named GlyUpGraph.xlsx\n",
    "writer = ExcelWriter('GlyUpGraph.xlsx')\n",
    "result.to_excel(writer,'Sheet1',index=False)\n",
    "writer.save()"
   ]
  },
  {
   "cell_type": "code",
   "execution_count": 750,
   "metadata": {},
   "outputs": [
    {
     "data": {
      "text/plain": [
       "Text(0, 1.12, 'Gly vs. RNASeq Matching Upregulated Genes')"
      ]
     },
     "execution_count": 750,
     "metadata": {},
     "output_type": "execute_result"
    },
    {
     "data": {
      "image/png": "[encoded data removed]",
      "text/plain": [
       "<Figure size 576x288 with 1 Axes>"
      ]
     },
     "metadata": {
      "needs_background": "light"
     },
     "output_type": "display_data"
    }
   ],
   "source": [
    "#Graph matched genes (include gene name and score) \n",
    "df = pd.read_excel('GlyUpGraph.xlsx', usecols =['NAME', 'SCORE'])\n",
    "fig, ax = plt.subplots(figsize=(8, 4))\n",
    "ax.barh(df['NAME'], df['SCORE'])\n",
    "ax.text(0, 1.12, 'Gly vs. RNASeq Matching Upregulated Genes',\n",
    "            transform=ax.transAxes, size=24, weight=600, ha='left')"
   ]
  },
  {
   "cell_type": "code",
   "execution_count": 751,
   "metadata": {},
   "outputs": [],
   "source": [
    "#Write Gly and RNA seq. downregulated genes in one excel file named GlyDownMatch.xlsx\n",
    "writer = pd.ExcelWriter('GlyDownMatch.xlsx')\n",
    "df_Gly.to_excel(writer,'Sheet1', startrow=0 , startcol=0)\n",
    "df_low.to_excel(writer,'Sheet1', startrow=0, startcol=2)\n",
    "writer.save()"
   ]
  },
  {
   "cell_type": "code",
   "execution_count": 752,
   "metadata": {},
   "outputs": [
    {
     "data": {
      "text/html": [
       "<div>\n",
       "<style scoped>\n",
       "    .dataframe tbody tr th:only-of-type {\n",
       "        vertical-align: middle;\n",
       "    }\n",
       "\n",
       "    .dataframe tbody tr th {\n",
       "        vertical-align: top;\n",
       "    }\n",
       "\n",
       "    .dataframe thead th {\n",
       "        text-align: right;\n",
       "    }\n",
       "</style>\n",
       "<table border=\"1\" class=\"dataframe\">\n",
       "  <thead>\n",
       "    <tr style=\"text-align: right;\">\n",
       "      <th></th>\n",
       "      <th>Symbol</th>\n",
       "      <th>NAME</th>\n",
       "      <th>SCORE</th>\n",
       "    </tr>\n",
       "  </thead>\n",
       "  <tbody>\n",
       "    <tr>\n",
       "      <td>252</td>\n",
       "      <td>NaN</td>\n",
       "      <td>MLXIP</td>\n",
       "      <td>-12.262503</td>\n",
       "    </tr>\n",
       "    <tr>\n",
       "      <td>357</td>\n",
       "      <td>NaN</td>\n",
       "      <td>PTEN</td>\n",
       "      <td>-10.370646</td>\n",
       "    </tr>\n",
       "    <tr>\n",
       "      <td>989</td>\n",
       "      <td>NaN</td>\n",
       "      <td>PFKFB2</td>\n",
       "      <td>-6.107767</td>\n",
       "    </tr>\n",
       "    <tr>\n",
       "      <td>1081</td>\n",
       "      <td>NaN</td>\n",
       "      <td>CASP1</td>\n",
       "      <td>-5.765456</td>\n",
       "    </tr>\n",
       "    <tr>\n",
       "      <td>1231</td>\n",
       "      <td>NaN</td>\n",
       "      <td>FOXO3</td>\n",
       "      <td>-5.278526</td>\n",
       "    </tr>\n",
       "  </tbody>\n",
       "</table>\n",
       "</div>"
      ],
      "text/plain": [
       "     Symbol    NAME      SCORE\n",
       "252     NaN   MLXIP -12.262503\n",
       "357     NaN    PTEN -10.370646\n",
       "989     NaN  PFKFB2  -6.107767\n",
       "1081    NaN   CASP1  -5.765456\n",
       "1231    NaN   FOXO3  -5.278526"
      ]
     },
     "execution_count": 752,
     "metadata": {},
     "output_type": "execute_result"
    }
   ],
   "source": [
    "#Match Gly and dowregulated genes based on gene name\n",
    "#Whichever genes are found in both or match UPR and RNA seq. downregulated columns will appear in list below with the corresponding expression scor\n",
    "df = pd.read_excel('GlyDownMatch.xlsx')\n",
    "df.drop(df.columns[df.columns.str.contains('Unnamed',case = False)],axis = 1, inplace = True)\n",
    "result = df[df['NAME'].isin(list(df['Symbol']))]\n",
    "result"
   ]
  },
  {
   "cell_type": "code",
   "execution_count": 753,
   "metadata": {},
   "outputs": [],
   "source": [
    "#Import the chart above as output into a seperate excel sheet named GlyDownGraph.xlsx\n",
    "writer = ExcelWriter('GlyDownGraph.xlsx')\n",
    "result.to_excel(writer,'Sheet1',index=False)\n",
    "writer.save()"
   ]
  },
  {
   "cell_type": "code",
   "execution_count": 754,
   "metadata": {},
   "outputs": [
    {
     "data": {
      "text/plain": [
       "Text(0, 1.12, 'Gly vs. RNASeq Matching Downregulated Genes')"
      ]
     },
     "execution_count": 754,
     "metadata": {},
     "output_type": "execute_result"
    },
    {
     "data": {
      "image/png": "[encoded data removed]",
      "text/plain": [
       "<Figure size 576x288 with 1 Axes>"
      ]
     },
     "metadata": {
      "needs_background": "light"
     },
     "output_type": "display_data"
    }
   ],
   "source": [
    "#Generate graph of the matched Gly and downregulated RNA Seq. genes \n",
    "#Graph matched genes (include gene name and score)\n",
    "\n",
    "df = pd.read_excel('GlyDownGraph.xlsx', usecols =['NAME', 'SCORE'])\n",
    "fig, ax = plt.subplots(figsize=(8, 4))\n",
    "ax.barh(df['NAME'], df['SCORE'])\n",
    "ax.text(0, 1.12, 'Gly vs. RNASeq Matching Downregulated Genes',\n",
    "            transform=ax.transAxes, size=24, weight=600, ha='left')"
   ]
  }
 ],
 "metadata": {
  "kernelspec": {
   "display_name": "Python 3",
   "language": "python",
   "name": "python3"
  },
  "language_info": {
   "codemirror_mode": {
    "name": "ipython",
    "version": 3
   },
   "file_extension": ".py",
   "mimetype": "text/x-python",
   "name": "python",
   "nbconvert_exporter": "python",
   "pygments_lexer": "ipython3",
   "version": "3.7.4"
  }
 },
 "nbformat": 4,
 "nbformat_minor": 2
}
