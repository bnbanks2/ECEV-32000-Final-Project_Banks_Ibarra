{
 "cells": [
  {
   "cell_type": "code",
   "execution_count": 574,
   "metadata": {},
   "outputs": [
    {
     "name": "stdout",
     "output_type": "stream",
     "text": [
      "/Users/user/Desktop\n"
     ]
    }
   ],
   "source": [
    "import os\n",
    "cwd = os.getcwd()\n",
    "print(cwd)"
   ]
  },
  {
   "cell_type": "code",
   "execution_count": 576,
   "metadata": {},
   "outputs": [],
   "source": [
    "os.chdir('/Users/user/desktop')"
   ]
  },
  {
   "cell_type": "code",
   "execution_count": 577,
   "metadata": {},
   "outputs": [],
   "source": [
    "import xlrd"
   ]
  },
  {
   "cell_type": "code",
   "execution_count": 578,
   "metadata": {},
   "outputs": [],
   "source": [
    "loc = (\"RNAseqdata.xls\") #this function imports our data and allows to manipulate in the following function"
   ]
  },
  {
   "cell_type": "code",
   "execution_count": 579,
   "metadata": {},
   "outputs": [],
   "source": [
    "wb = xlrd.open_workbook(loc)"
   ]
  },
  {
   "cell_type": "code",
   "execution_count": 580,
   "metadata": {},
   "outputs": [],
   "source": [
    "sheet = wb.sheet_by_index(0)"
   ]
  },
  {
   "cell_type": "code",
   "execution_count": 581,
   "metadata": {},
   "outputs": [
    {
     "data": {
      "text/plain": [
       "31.086206"
      ]
     },
     "execution_count": 581,
     "metadata": {},
     "output_type": "execute_result"
    }
   ],
   "source": [
    "sheet.cell_value(1,4)"
   ]
  },
  {
   "cell_type": "code",
   "execution_count": 582,
   "metadata": {},
   "outputs": [
    {
     "name": "stdout",
     "output_type": "stream",
     "text": [
      "16103\n"
     ]
    }
   ],
   "source": [
    "print (sheet.nrows)"
   ]
  },
  {
   "cell_type": "code",
   "execution_count": 583,
   "metadata": {},
   "outputs": [],
   "source": [
    "import pandas as pd\n",
    "xl = pd.ExcelFile(\"RNAseqdata.xls\")\n"
   ]
  },
  {
   "cell_type": "code",
   "execution_count": 584,
   "metadata": {},
   "outputs": [
    {
     "data": {
      "text/html": [
       "<div>\n",
       "<style scoped>\n",
       "    .dataframe tbody tr th:only-of-type {\n",
       "        vertical-align: middle;\n",
       "    }\n",
       "\n",
       "    .dataframe tbody tr th {\n",
       "        vertical-align: top;\n",
       "    }\n",
       "\n",
       "    .dataframe thead th {\n",
       "        text-align: right;\n",
       "    }\n",
       "</style>\n",
       "<table border=\"1\" class=\"dataframe\">\n",
       "  <thead>\n",
       "    <tr style=\"text-align: right;\">\n",
       "      <th></th>\n",
       "      <th>NAME</th>\n",
       "      <th>SCORE</th>\n",
       "    </tr>\n",
       "  </thead>\n",
       "  <tbody>\n",
       "    <tr>\n",
       "      <td>0</td>\n",
       "      <td>CD53</td>\n",
       "      <td>31.086206</td>\n",
       "    </tr>\n",
       "    <tr>\n",
       "      <td>1</td>\n",
       "      <td>PIM2</td>\n",
       "      <td>30.288067</td>\n",
       "    </tr>\n",
       "    <tr>\n",
       "      <td>2</td>\n",
       "      <td>NSF</td>\n",
       "      <td>29.087437</td>\n",
       "    </tr>\n",
       "    <tr>\n",
       "      <td>3</td>\n",
       "      <td>PSAT1</td>\n",
       "      <td>28.312407</td>\n",
       "    </tr>\n",
       "    <tr>\n",
       "      <td>4</td>\n",
       "      <td>MTHFD2</td>\n",
       "      <td>26.850730</td>\n",
       "    </tr>\n",
       "    <tr>\n",
       "      <td>...</td>\n",
       "      <td>...</td>\n",
       "      <td>...</td>\n",
       "    </tr>\n",
       "    <tr>\n",
       "      <td>16097</td>\n",
       "      <td>F10</td>\n",
       "      <td>-34.502815</td>\n",
       "    </tr>\n",
       "    <tr>\n",
       "      <td>16098</td>\n",
       "      <td>PIK3C2G</td>\n",
       "      <td>-34.909992</td>\n",
       "    </tr>\n",
       "    <tr>\n",
       "      <td>16099</td>\n",
       "      <td>D930015E06RIK</td>\n",
       "      <td>-38.306778</td>\n",
       "    </tr>\n",
       "    <tr>\n",
       "      <td>16100</td>\n",
       "      <td>PLAC8</td>\n",
       "      <td>-39.212330</td>\n",
       "    </tr>\n",
       "    <tr>\n",
       "      <td>16101</td>\n",
       "      <td>NEAT1</td>\n",
       "      <td>-44.626900</td>\n",
       "    </tr>\n",
       "  </tbody>\n",
       "</table>\n",
       "<p>16102 rows × 2 columns</p>\n",
       "</div>"
      ],
      "text/plain": [
       "                NAME      SCORE\n",
       "0               CD53  31.086206\n",
       "1               PIM2  30.288067\n",
       "2                NSF  29.087437\n",
       "3              PSAT1  28.312407\n",
       "4             MTHFD2  26.850730\n",
       "...              ...        ...\n",
       "16097            F10 -34.502815\n",
       "16098        PIK3C2G -34.909992\n",
       "16099  D930015E06RIK -38.306778\n",
       "16100          PLAC8 -39.212330\n",
       "16101          NEAT1 -44.626900\n",
       "\n",
       "[16102 rows x 2 columns]"
      ]
     },
     "execution_count": 584,
     "metadata": {},
     "output_type": "execute_result"
    }
   ],
   "source": [
    "cols = ['NAME', 'SCORE']\n",
    "cols \n",
    "df = xl.parse(\"RNAseq\")\n",
    "df.drop('DESCRIPTION', axis =1, inplace = True)\n",
    "df.drop('GENE_SYMBOL', axis =1, inplace = True)\n",
    "df.drop('GENE_TITLE', axis =1, inplace = True)\n",
    "df"
   ]
  },
  {
   "cell_type": "code",
   "execution_count": 585,
   "metadata": {},
   "outputs": [],
   "source": [
    "df = df.sort_values(by=['SCORE'])"
   ]
  },
  {
   "cell_type": "code",
   "execution_count": 586,
   "metadata": {},
   "outputs": [
    {
     "data": {
      "text/html": [
       "<div>\n",
       "<style scoped>\n",
       "    .dataframe tbody tr th:only-of-type {\n",
       "        vertical-align: middle;\n",
       "    }\n",
       "\n",
       "    .dataframe tbody tr th {\n",
       "        vertical-align: top;\n",
       "    }\n",
       "\n",
       "    .dataframe thead th {\n",
       "        text-align: right;\n",
       "    }\n",
       "</style>\n",
       "<table border=\"1\" class=\"dataframe\">\n",
       "  <thead>\n",
       "    <tr style=\"text-align: right;\">\n",
       "      <th></th>\n",
       "      <th>NAME</th>\n",
       "      <th>SCORE</th>\n",
       "    </tr>\n",
       "  </thead>\n",
       "  <tbody>\n",
       "    <tr>\n",
       "      <td>16101</td>\n",
       "      <td>NEAT1</td>\n",
       "      <td>-44.626900</td>\n",
       "    </tr>\n",
       "    <tr>\n",
       "      <td>16100</td>\n",
       "      <td>PLAC8</td>\n",
       "      <td>-39.212330</td>\n",
       "    </tr>\n",
       "    <tr>\n",
       "      <td>16099</td>\n",
       "      <td>D930015E06RIK</td>\n",
       "      <td>-38.306778</td>\n",
       "    </tr>\n",
       "    <tr>\n",
       "      <td>16098</td>\n",
       "      <td>PIK3C2G</td>\n",
       "      <td>-34.909992</td>\n",
       "    </tr>\n",
       "    <tr>\n",
       "      <td>16097</td>\n",
       "      <td>F10</td>\n",
       "      <td>-34.502815</td>\n",
       "    </tr>\n",
       "    <tr>\n",
       "      <td>...</td>\n",
       "      <td>...</td>\n",
       "      <td>...</td>\n",
       "    </tr>\n",
       "    <tr>\n",
       "      <td>4</td>\n",
       "      <td>MTHFD2</td>\n",
       "      <td>26.850730</td>\n",
       "    </tr>\n",
       "    <tr>\n",
       "      <td>3</td>\n",
       "      <td>PSAT1</td>\n",
       "      <td>28.312407</td>\n",
       "    </tr>\n",
       "    <tr>\n",
       "      <td>2</td>\n",
       "      <td>NSF</td>\n",
       "      <td>29.087437</td>\n",
       "    </tr>\n",
       "    <tr>\n",
       "      <td>1</td>\n",
       "      <td>PIM2</td>\n",
       "      <td>30.288067</td>\n",
       "    </tr>\n",
       "    <tr>\n",
       "      <td>0</td>\n",
       "      <td>CD53</td>\n",
       "      <td>31.086206</td>\n",
       "    </tr>\n",
       "  </tbody>\n",
       "</table>\n",
       "<p>16102 rows × 2 columns</p>\n",
       "</div>"
      ],
      "text/plain": [
       "                NAME      SCORE\n",
       "16101          NEAT1 -44.626900\n",
       "16100          PLAC8 -39.212330\n",
       "16099  D930015E06RIK -38.306778\n",
       "16098        PIK3C2G -34.909992\n",
       "16097            F10 -34.502815\n",
       "...              ...        ...\n",
       "4             MTHFD2  26.850730\n",
       "3              PSAT1  28.312407\n",
       "2                NSF  29.087437\n",
       "1               PIM2  30.288067\n",
       "0               CD53  31.086206\n",
       "\n",
       "[16102 rows x 2 columns]"
      ]
     },
     "execution_count": 586,
     "metadata": {},
     "output_type": "execute_result"
    }
   ],
   "source": [
    "df #this function arraged our list to output top 5 genes with the highest score and the top 5 genes with the lowest score "
   ]
  },
  {
   "cell_type": "code",
   "execution_count": 587,
   "metadata": {},
   "outputs": [],
   "source": [
    "df_high = df[df['SCORE'] >= 10] #based upon the literature "
   ]
  },
  {
   "cell_type": "code",
   "execution_count": 588,
   "metadata": {},
   "outputs": [
    {
     "name": "stdout",
     "output_type": "stream",
     "text": [
      "        NAME      SCORE\n",
      "610    SYNE3  10.003552\n",
      "609   CRYZL1  10.004596\n",
      "608  SMARCA5  10.007616\n",
      "607     NIP7  10.013830\n",
      "606    NDC80  10.020450\n",
      "..       ...        ...\n",
      "4     MTHFD2  26.850730\n",
      "3      PSAT1  28.312407\n",
      "2        NSF  29.087437\n",
      "1       PIM2  30.288067\n",
      "0       CD53  31.086206\n",
      "\n",
      "[611 rows x 2 columns]\n"
     ]
    }
   ],
   "source": [
    "print (df_high [['NAME', 'SCORE']])"
   ]
  },
  {
   "cell_type": "code",
   "execution_count": 589,
   "metadata": {},
   "outputs": [],
   "source": [
    "import matplotlib.pyplot as plt \n",
    "import numpy as np \n",
    "from matplotlib.ticker import StrMethodFormatter"
   ]
  },
  {
   "cell_type": "code",
   "execution_count": 590,
   "metadata": {},
   "outputs": [
    {
     "data": {
      "text/plain": [
       "<matplotlib.axes._subplots.AxesSubplot at 0x1264d13d0>"
      ]
     },
     "execution_count": 590,
     "metadata": {},
     "output_type": "execute_result"
    },
    {
     "data": {
      "image/png": "[encoded data removed]",
      "text/plain": [
       "<Figure size 432x288 with 1 Axes>"
      ]
     },
     "metadata": {
      "needs_background": "light"
     },
     "output_type": "display_data"
    }
   ],
   "source": [
    "df_high.plot(x='NAME', y='SCORE')"
   ]
  },
  {
   "cell_type": "code",
   "execution_count": 591,
   "metadata": {},
   "outputs": [],
   "source": [
    "df_low = df[df['SCORE'] <= -1] "
   ]
  },
  {
   "cell_type": "code",
   "execution_count": 592,
   "metadata": {},
   "outputs": [
    {
     "name": "stdout",
     "output_type": "stream",
     "text": [
      "                NAME      SCORE\n",
      "16101          NEAT1 -44.626900\n",
      "16100          PLAC8 -39.212330\n",
      "16099  D930015E06RIK -38.306778\n",
      "16098        PIK3C2G -34.909992\n",
      "16097            F10 -34.502815\n",
      "...              ...        ...\n",
      "11248          GPR88  -1.001812\n",
      "11247          SH2D7  -1.001059\n",
      "11246          PPM1B  -1.000857\n",
      "11245         MUSTN1  -1.000829\n",
      "11244          ENOX1  -1.000694\n",
      "\n",
      "[4858 rows x 2 columns]\n"
     ]
    }
   ],
   "source": [
    "print (df_low [['NAME', 'SCORE']])"
   ]
  },
  {
   "cell_type": "code",
   "execution_count": 593,
   "metadata": {},
   "outputs": [
    {
     "data": {
      "text/plain": [
       "<matplotlib.axes._subplots.AxesSubplot at 0x12dc05310>"
      ]
     },
     "execution_count": 593,
     "metadata": {},
     "output_type": "execute_result"
    },
    {
     "data": {
      "image/png": "[encoded data removed]",
      "text/plain": [
       "<Figure size 432x288 with 1 Axes>"
      ]
     },
     "metadata": {
      "needs_background": "light"
     },
     "output_type": "display_data"
    }
   ],
   "source": [
    "df_low.plot(x='NAME', y='SCORE')"
   ]
  },
  {
   "cell_type": "code",
   "execution_count": 594,
   "metadata": {},
   "outputs": [],
   "source": [
    "import pandas as pd\n",
    "xl = pd.ExcelFile(\"RNAseqdata.xls\")"
   ]
  },
  {
   "cell_type": "code",
   "execution_count": 595,
   "metadata": {},
   "outputs": [
    {
     "data": {
      "text/html": [
       "<div>\n",
       "<style scoped>\n",
       "    .dataframe tbody tr th:only-of-type {\n",
       "        vertical-align: middle;\n",
       "    }\n",
       "\n",
       "    .dataframe tbody tr th {\n",
       "        vertical-align: top;\n",
       "    }\n",
       "\n",
       "    .dataframe thead th {\n",
       "        text-align: right;\n",
       "    }\n",
       "</style>\n",
       "<table border=\"1\" class=\"dataframe\">\n",
       "  <thead>\n",
       "    <tr style=\"text-align: right;\">\n",
       "      <th></th>\n",
       "      <th>Symbol</th>\n",
       "    </tr>\n",
       "  </thead>\n",
       "  <tbody>\n",
       "    <tr>\n",
       "      <td>0</td>\n",
       "      <td>ACADVL</td>\n",
       "    </tr>\n",
       "    <tr>\n",
       "      <td>1</td>\n",
       "      <td>ADD1</td>\n",
       "    </tr>\n",
       "    <tr>\n",
       "      <td>2</td>\n",
       "      <td>ARFGAP1</td>\n",
       "    </tr>\n",
       "    <tr>\n",
       "      <td>3</td>\n",
       "      <td>ASNS</td>\n",
       "    </tr>\n",
       "    <tr>\n",
       "      <td>4</td>\n",
       "      <td>ATF3</td>\n",
       "    </tr>\n",
       "    <tr>\n",
       "      <td>...</td>\n",
       "      <td>...</td>\n",
       "    </tr>\n",
       "    <tr>\n",
       "      <td>74</td>\n",
       "      <td>WFS1</td>\n",
       "    </tr>\n",
       "    <tr>\n",
       "      <td>75</td>\n",
       "      <td>WIPI1</td>\n",
       "    </tr>\n",
       "    <tr>\n",
       "      <td>76</td>\n",
       "      <td>XBP1</td>\n",
       "    </tr>\n",
       "    <tr>\n",
       "      <td>77</td>\n",
       "      <td>YIF1A</td>\n",
       "    </tr>\n",
       "    <tr>\n",
       "      <td>78</td>\n",
       "      <td>ZBTB17</td>\n",
       "    </tr>\n",
       "  </tbody>\n",
       "</table>\n",
       "<p>79 rows × 1 columns</p>\n",
       "</div>"
      ],
      "text/plain": [
       "     Symbol\n",
       "0    ACADVL\n",
       "1      ADD1\n",
       "2   ARFGAP1\n",
       "3      ASNS\n",
       "4      ATF3\n",
       "..      ...\n",
       "74     WFS1\n",
       "75    WIPI1\n",
       "76     XBP1\n",
       "77    YIF1A\n",
       "78   ZBTB17\n",
       "\n",
       "[79 rows x 1 columns]"
      ]
     },
     "execution_count": 595,
     "metadata": {},
     "output_type": "execute_result"
    }
   ],
   "source": [
    "cols = ['Symbol']\n",
    "df = xl.parse(\"UPR\")\n",
    "df"
   ]
  },
  {
   "cell_type": "code",
   "execution_count": 596,
   "metadata": {},
   "outputs": [],
   "source": [
    "df_upr = xl.parse(\"UPR\")"
   ]
  },
  {
   "cell_type": "code",
   "execution_count": 597,
   "metadata": {},
   "outputs": [
    {
     "name": "stdout",
     "output_type": "stream",
     "text": [
      "     Symbol\n",
      "0    ACADVL\n",
      "1      ADD1\n",
      "2   ARFGAP1\n",
      "3      ASNS\n",
      "4      ATF3\n",
      "..      ...\n",
      "74     WFS1\n",
      "75    WIPI1\n",
      "76     XBP1\n",
      "77    YIF1A\n",
      "78   ZBTB17\n",
      "\n",
      "[79 rows x 1 columns]\n"
     ]
    }
   ],
   "source": [
    "print (df_upr)"
   ]
  },
  {
   "cell_type": "code",
   "execution_count": 598,
   "metadata": {},
   "outputs": [],
   "source": [
    "from pandas import ExcelWriter\n",
    "writer = pd.ExcelWriter('UpregulatedMatch.xlsx')\n",
    "df_upr.to_excel(writer,'one', startrow=0 , startcol=0)\n",
    "df_high.to_excel(writer,'one', startrow=0, startcol=2)\n",
    "writer.save()"
   ]
  },
  {
   "cell_type": "code",
   "execution_count": 599,
   "metadata": {},
   "outputs": [
    {
     "data": {
      "text/html": [
       "<div>\n",
       "<style scoped>\n",
       "    .dataframe tbody tr th:only-of-type {\n",
       "        vertical-align: middle;\n",
       "    }\n",
       "\n",
       "    .dataframe tbody tr th {\n",
       "        vertical-align: top;\n",
       "    }\n",
       "\n",
       "    .dataframe thead th {\n",
       "        text-align: right;\n",
       "    }\n",
       "</style>\n",
       "<table border=\"1\" class=\"dataframe\">\n",
       "  <thead>\n",
       "    <tr style=\"text-align: right;\">\n",
       "      <th></th>\n",
       "      <th>Symbol</th>\n",
       "      <th>NAME</th>\n",
       "      <th>SCORE</th>\n",
       "    </tr>\n",
       "  </thead>\n",
       "  <tbody>\n",
       "    <tr>\n",
       "      <td>12</td>\n",
       "      <td>CXCL8</td>\n",
       "      <td>EXOSC2</td>\n",
       "      <td>10.054875</td>\n",
       "    </tr>\n",
       "    <tr>\n",
       "      <td>58</td>\n",
       "      <td>PDIA6</td>\n",
       "      <td>DNAJB11</td>\n",
       "      <td>10.422532</td>\n",
       "    </tr>\n",
       "    <tr>\n",
       "      <td>81</td>\n",
       "      <td>NaN</td>\n",
       "      <td>EIF2S1</td>\n",
       "      <td>10.598577</td>\n",
       "    </tr>\n",
       "    <tr>\n",
       "      <td>188</td>\n",
       "      <td>NaN</td>\n",
       "      <td>EXOSC8</td>\n",
       "      <td>11.372314</td>\n",
       "    </tr>\n",
       "    <tr>\n",
       "      <td>214</td>\n",
       "      <td>NaN</td>\n",
       "      <td>ATF6</td>\n",
       "      <td>11.616917</td>\n",
       "    </tr>\n",
       "    <tr>\n",
       "      <td>232</td>\n",
       "      <td>NaN</td>\n",
       "      <td>PDIA6</td>\n",
       "      <td>11.781059</td>\n",
       "    </tr>\n",
       "    <tr>\n",
       "      <td>257</td>\n",
       "      <td>NaN</td>\n",
       "      <td>HYOU1</td>\n",
       "      <td>12.013284</td>\n",
       "    </tr>\n",
       "    <tr>\n",
       "      <td>514</td>\n",
       "      <td>NaN</td>\n",
       "      <td>ATF4</td>\n",
       "      <td>16.686472</td>\n",
       "    </tr>\n",
       "    <tr>\n",
       "      <td>601</td>\n",
       "      <td>NaN</td>\n",
       "      <td>ASNS</td>\n",
       "      <td>25.177706</td>\n",
       "    </tr>\n",
       "  </tbody>\n",
       "</table>\n",
       "</div>"
      ],
      "text/plain": [
       "    Symbol     NAME      SCORE\n",
       "12   CXCL8   EXOSC2  10.054875\n",
       "58   PDIA6  DNAJB11  10.422532\n",
       "81     NaN   EIF2S1  10.598577\n",
       "188    NaN   EXOSC8  11.372314\n",
       "214    NaN     ATF6  11.616917\n",
       "232    NaN    PDIA6  11.781059\n",
       "257    NaN    HYOU1  12.013284\n",
       "514    NaN     ATF4  16.686472\n",
       "601    NaN     ASNS  25.177706"
      ]
     },
     "execution_count": 599,
     "metadata": {},
     "output_type": "execute_result"
    }
   ],
   "source": [
    "import pandas as pd\n",
    "df = pd.read_excel('UpregulatedMatch.xlsx')\n",
    "df.drop(df.columns[df.columns.str.contains('Unnamed',case = False)],axis = 1, inplace = True)\n",
    "result = df[df['NAME'].isin(list(df['Symbol']))]\n",
    "result"
   ]
  },
  {
   "cell_type": "code",
   "execution_count": 600,
   "metadata": {},
   "outputs": [],
   "source": [
    "from pandas import ExcelWriter\n",
    "\n",
    "writer = ExcelWriter('UpGraph.xlsx')\n",
    "result.to_excel(writer,'one',index=False)\n",
    "writer.save()"
   ]
  },
  {
   "cell_type": "code",
   "execution_count": 601,
   "metadata": {},
   "outputs": [],
   "source": [
    "import pandas as pd\n",
    "import matplotlib.pyplot as plt\n",
    "import matplotlib.ticker as ticker\n",
    "import matplotlib.animation as animation\n",
    "from IPython.display import HTML"
   ]
  },
  {
   "cell_type": "code",
   "execution_count": 602,
   "metadata": {},
   "outputs": [
    {
     "data": {
      "text/plain": [
       "Text(0, 1.12, 'UPR vs. RNASeq Matching Upregulated Genes')"
      ]
     },
     "execution_count": 602,
     "metadata": {},
     "output_type": "execute_result"
    },
    {
     "data": {
      "image/png": "[encoded data removed]",
      "text/plain": [
       "<Figure size 576x288 with 1 Axes>"
      ]
     },
     "metadata": {
      "needs_background": "light"
     },
     "output_type": "display_data"
    }
   ],
   "source": [
    "df = pd.read_excel('UpGraph.xlsx', usecols =['NAME', 'SCORE'])\n",
    "fig, ax = plt.subplots(figsize=(8, 4))\n",
    "ax.barh(df['NAME'], df['SCORE'])\n",
    "ax.text(0, 1.12, 'UPR vs. RNASeq Matching Upregulated Genes',\n",
    "            transform=ax.transAxes, size=24, weight=600, ha='left')\n"
   ]
  },
  {
   "cell_type": "code",
   "execution_count": 603,
   "metadata": {},
   "outputs": [],
   "source": [
    "from pandas import ExcelWriter\n",
    "writer = pd.ExcelWriter('DownregulatedMatch.xlsx')\n",
    "df_upr.to_excel(writer,'one', startrow=0 , startcol=0)\n",
    "df_low.to_excel(writer,'one', startrow=0, startcol=2)\n",
    "writer.save()"
   ]
  },
  {
   "cell_type": "code",
   "execution_count": 604,
   "metadata": {},
   "outputs": [
    {
     "data": {
      "text/html": [
       "<div>\n",
       "<style scoped>\n",
       "    .dataframe tbody tr th:only-of-type {\n",
       "        vertical-align: middle;\n",
       "    }\n",
       "\n",
       "    .dataframe tbody tr th {\n",
       "        vertical-align: top;\n",
       "    }\n",
       "\n",
       "    .dataframe thead th {\n",
       "        text-align: right;\n",
       "    }\n",
       "</style>\n",
       "<table border=\"1\" class=\"dataframe\">\n",
       "  <thead>\n",
       "    <tr style=\"text-align: right;\">\n",
       "      <th></th>\n",
       "      <th>Symbol</th>\n",
       "      <th>NAME</th>\n",
       "      <th>SCORE</th>\n",
       "    </tr>\n",
       "  </thead>\n",
       "  <tbody>\n",
       "    <tr>\n",
       "      <td>61</td>\n",
       "      <td>PREB</td>\n",
       "      <td>ERN1</td>\n",
       "      <td>-20.256012</td>\n",
       "    </tr>\n",
       "    <tr>\n",
       "      <td>455</td>\n",
       "      <td>NaN</td>\n",
       "      <td>TPP1</td>\n",
       "      <td>-9.285360</td>\n",
       "    </tr>\n",
       "    <tr>\n",
       "      <td>898</td>\n",
       "      <td>NaN</td>\n",
       "      <td>PLA2G4B</td>\n",
       "      <td>-6.491310</td>\n",
       "    </tr>\n",
       "    <tr>\n",
       "      <td>1230</td>\n",
       "      <td>NaN</td>\n",
       "      <td>ADD1</td>\n",
       "      <td>-5.280332</td>\n",
       "    </tr>\n",
       "    <tr>\n",
       "      <td>1542</td>\n",
       "      <td>NaN</td>\n",
       "      <td>ATP6V0D1</td>\n",
       "      <td>-4.512323</td>\n",
       "    </tr>\n",
       "    <tr>\n",
       "      <td>1609</td>\n",
       "      <td>NaN</td>\n",
       "      <td>TSPYL2</td>\n",
       "      <td>-4.336701</td>\n",
       "    </tr>\n",
       "    <tr>\n",
       "      <td>1614</td>\n",
       "      <td>NaN</td>\n",
       "      <td>DNAJB9</td>\n",
       "      <td>-4.331062</td>\n",
       "    </tr>\n",
       "    <tr>\n",
       "      <td>1704</td>\n",
       "      <td>NaN</td>\n",
       "      <td>CTDSP2</td>\n",
       "      <td>-4.146607</td>\n",
       "    </tr>\n",
       "    <tr>\n",
       "      <td>1802</td>\n",
       "      <td>NaN</td>\n",
       "      <td>CUL7</td>\n",
       "      <td>-3.983062</td>\n",
       "    </tr>\n",
       "    <tr>\n",
       "      <td>4428</td>\n",
       "      <td>NaN</td>\n",
       "      <td>ACADVL</td>\n",
       "      <td>-1.242801</td>\n",
       "    </tr>\n",
       "    <tr>\n",
       "      <td>4581</td>\n",
       "      <td>NaN</td>\n",
       "      <td>PPP2R5B</td>\n",
       "      <td>-1.158865</td>\n",
       "    </tr>\n",
       "  </tbody>\n",
       "</table>\n",
       "</div>"
      ],
      "text/plain": [
       "     Symbol      NAME      SCORE\n",
       "61     PREB      ERN1 -20.256012\n",
       "455     NaN      TPP1  -9.285360\n",
       "898     NaN   PLA2G4B  -6.491310\n",
       "1230    NaN      ADD1  -5.280332\n",
       "1542    NaN  ATP6V0D1  -4.512323\n",
       "1609    NaN    TSPYL2  -4.336701\n",
       "1614    NaN    DNAJB9  -4.331062\n",
       "1704    NaN    CTDSP2  -4.146607\n",
       "1802    NaN      CUL7  -3.983062\n",
       "4428    NaN    ACADVL  -1.242801\n",
       "4581    NaN   PPP2R5B  -1.158865"
      ]
     },
     "execution_count": 604,
     "metadata": {},
     "output_type": "execute_result"
    }
   ],
   "source": [
    "import pandas as pd\n",
    "df = pd.read_excel('DownregulatedMatch.xlsx')\n",
    "df.drop(df.columns[df.columns.str.contains('Unnamed',case = False)],axis = 1, inplace = True)\n",
    "result = df[df['NAME'].isin(list(df['Symbol']))]\n",
    "result"
   ]
  },
  {
   "cell_type": "code",
   "execution_count": 605,
   "metadata": {},
   "outputs": [],
   "source": [
    "from pandas import ExcelWriter\n",
    "\n",
    "writer = ExcelWriter('DownGraph.xlsx')\n",
    "result.to_excel(writer,'one',index=False)\n",
    "writer.save()"
   ]
  },
  {
   "cell_type": "code",
   "execution_count": 606,
   "metadata": {},
   "outputs": [
    {
     "data": {
      "text/plain": [
       "Text(0, 1.12, 'UPR vs. RNASeq Matching Downregulated Genes')"
      ]
     },
     "execution_count": 606,
     "metadata": {},
     "output_type": "execute_result"
    },
    {
     "data": {
      "image/png": "[encoded data removed]",
      "text/plain": [
       "<Figure size 576x288 with 1 Axes>"
      ]
     },
     "metadata": {
      "needs_background": "light"
     },
     "output_type": "display_data"
    }
   ],
   "source": [
    "df = pd.read_excel('DownGraph.xlsx', usecols =['NAME', 'SCORE'])\n",
    "fig, ax = plt.subplots(figsize=(8, 4))\n",
    "ax.barh(df['NAME'], df['SCORE'])\n",
    "ax.text(0, 1.12, 'UPR vs. RNASeq Matching Downregulated Genes',\n",
    "            transform=ax.transAxes, size=24, weight=600, ha='left')"
   ]
  },
  {
   "cell_type": "code",
   "execution_count": 607,
   "metadata": {},
   "outputs": [
    {
     "data": {
      "text/html": [
       "<div>\n",
       "<style scoped>\n",
       "    .dataframe tbody tr th:only-of-type {\n",
       "        vertical-align: middle;\n",
       "    }\n",
       "\n",
       "    .dataframe tbody tr th {\n",
       "        vertical-align: top;\n",
       "    }\n",
       "\n",
       "    .dataframe thead th {\n",
       "        text-align: right;\n",
       "    }\n",
       "</style>\n",
       "<table border=\"1\" class=\"dataframe\">\n",
       "  <thead>\n",
       "    <tr style=\"text-align: right;\">\n",
       "      <th></th>\n",
       "      <th>Symbol</th>\n",
       "    </tr>\n",
       "  </thead>\n",
       "  <tbody>\n",
       "    <tr>\n",
       "      <td>0</td>\n",
       "      <td>ABCB1</td>\n",
       "    </tr>\n",
       "    <tr>\n",
       "      <td>1</td>\n",
       "      <td>ACLY</td>\n",
       "    </tr>\n",
       "    <tr>\n",
       "      <td>2</td>\n",
       "      <td>ACMSD</td>\n",
       "    </tr>\n",
       "    <tr>\n",
       "      <td>3</td>\n",
       "      <td>ACP1</td>\n",
       "    </tr>\n",
       "    <tr>\n",
       "      <td>4</td>\n",
       "      <td>ADA</td>\n",
       "    </tr>\n",
       "    <tr>\n",
       "      <td>...</td>\n",
       "      <td>...</td>\n",
       "    </tr>\n",
       "    <tr>\n",
       "      <td>80</td>\n",
       "      <td>TSC1</td>\n",
       "    </tr>\n",
       "    <tr>\n",
       "      <td>81</td>\n",
       "      <td>UCA1</td>\n",
       "    </tr>\n",
       "    <tr>\n",
       "      <td>82</td>\n",
       "      <td>UCP3</td>\n",
       "    </tr>\n",
       "    <tr>\n",
       "      <td>83</td>\n",
       "      <td>VEGFA</td>\n",
       "    </tr>\n",
       "    <tr>\n",
       "      <td>84</td>\n",
       "      <td>VHL</td>\n",
       "    </tr>\n",
       "  </tbody>\n",
       "</table>\n",
       "<p>85 rows × 1 columns</p>\n",
       "</div>"
      ],
      "text/plain": [
       "   Symbol\n",
       "0   ABCB1\n",
       "1    ACLY\n",
       "2   ACMSD\n",
       "3    ACP1\n",
       "4     ADA\n",
       "..    ...\n",
       "80   TSC1\n",
       "81   UCA1\n",
       "82   UCP3\n",
       "83  VEGFA\n",
       "84    VHL\n",
       "\n",
       "[85 rows x 1 columns]"
      ]
     },
     "execution_count": 607,
     "metadata": {},
     "output_type": "execute_result"
    }
   ],
   "source": [
    "cols = ['Symbol']\n",
    "df = xl.parse(\"Gly\")\n",
    "df"
   ]
  },
  {
   "cell_type": "code",
   "execution_count": 608,
   "metadata": {},
   "outputs": [],
   "source": [
    "df_Gly = xl.parse(\"Gly\")\n"
   ]
  },
  {
   "cell_type": "code",
   "execution_count": 609,
   "metadata": {},
   "outputs": [
    {
     "name": "stdout",
     "output_type": "stream",
     "text": [
      "   Symbol\n",
      "0   ABCB1\n",
      "1    ACLY\n",
      "2   ACMSD\n",
      "3    ACP1\n",
      "4     ADA\n",
      "..    ...\n",
      "80   TSC1\n",
      "81   UCA1\n",
      "82   UCP3\n",
      "83  VEGFA\n",
      "84    VHL\n",
      "\n",
      "[85 rows x 1 columns]\n"
     ]
    }
   ],
   "source": [
    "print (df_Gly)"
   ]
  },
  {
   "cell_type": "code",
   "execution_count": 610,
   "metadata": {},
   "outputs": [],
   "source": [
    "writer = pd.ExcelWriter('GlyUpMatch.xlsx')\n",
    "df_Gly.to_excel(writer,'Sheet1', startrow=0 , startcol=0)\n",
    "df_high.to_excel(writer,'Sheet1', startrow=0, startcol=2)\n",
    "writer.save()"
   ]
  },
  {
   "cell_type": "code",
   "execution_count": 611,
   "metadata": {},
   "outputs": [
    {
     "data": {
      "text/html": [
       "<div>\n",
       "<style scoped>\n",
       "    .dataframe tbody tr th:only-of-type {\n",
       "        vertical-align: middle;\n",
       "    }\n",
       "\n",
       "    .dataframe tbody tr th {\n",
       "        vertical-align: top;\n",
       "    }\n",
       "\n",
       "    .dataframe thead th {\n",
       "        text-align: right;\n",
       "    }\n",
       "</style>\n",
       "<table border=\"1\" class=\"dataframe\">\n",
       "  <thead>\n",
       "    <tr style=\"text-align: right;\">\n",
       "      <th></th>\n",
       "      <th>Symbol</th>\n",
       "      <th>NAME</th>\n",
       "      <th>SCORE</th>\n",
       "    </tr>\n",
       "  </thead>\n",
       "  <tbody>\n",
       "    <tr>\n",
       "      <td>88</td>\n",
       "      <td>NaN</td>\n",
       "      <td>ACP1</td>\n",
       "      <td>10.655144</td>\n",
       "    </tr>\n",
       "    <tr>\n",
       "      <td>354</td>\n",
       "      <td>NaN</td>\n",
       "      <td>C1QBP</td>\n",
       "      <td>13.114568</td>\n",
       "    </tr>\n",
       "    <tr>\n",
       "      <td>403</td>\n",
       "      <td>NaN</td>\n",
       "      <td>PCNA</td>\n",
       "      <td>13.705776</td>\n",
       "    </tr>\n",
       "    <tr>\n",
       "      <td>406</td>\n",
       "      <td>NaN</td>\n",
       "      <td>PFKP</td>\n",
       "      <td>13.754307</td>\n",
       "    </tr>\n",
       "    <tr>\n",
       "      <td>426</td>\n",
       "      <td>NaN</td>\n",
       "      <td>MTDH</td>\n",
       "      <td>14.049484</td>\n",
       "    </tr>\n",
       "    <tr>\n",
       "      <td>497</td>\n",
       "      <td>NaN</td>\n",
       "      <td>ENO1</td>\n",
       "      <td>15.826998</td>\n",
       "    </tr>\n",
       "    <tr>\n",
       "      <td>507</td>\n",
       "      <td>NaN</td>\n",
       "      <td>TGFB1</td>\n",
       "      <td>16.503178</td>\n",
       "    </tr>\n",
       "    <tr>\n",
       "      <td>510</td>\n",
       "      <td>NaN</td>\n",
       "      <td>GAPDH</td>\n",
       "      <td>16.606325</td>\n",
       "    </tr>\n",
       "    <tr>\n",
       "      <td>521</td>\n",
       "      <td>NaN</td>\n",
       "      <td>SLC2A3</td>\n",
       "      <td>16.992449</td>\n",
       "    </tr>\n",
       "    <tr>\n",
       "      <td>522</td>\n",
       "      <td>NaN</td>\n",
       "      <td>BIRC5</td>\n",
       "      <td>17.017273</td>\n",
       "    </tr>\n",
       "    <tr>\n",
       "      <td>592</td>\n",
       "      <td>NaN</td>\n",
       "      <td>LDHA</td>\n",
       "      <td>22.457441</td>\n",
       "    </tr>\n",
       "    <tr>\n",
       "      <td>595</td>\n",
       "      <td>NaN</td>\n",
       "      <td>PKM</td>\n",
       "      <td>22.771986</td>\n",
       "    </tr>\n",
       "    <tr>\n",
       "      <td>609</td>\n",
       "      <td>NaN</td>\n",
       "      <td>PIM2</td>\n",
       "      <td>30.288067</td>\n",
       "    </tr>\n",
       "  </tbody>\n",
       "</table>\n",
       "</div>"
      ],
      "text/plain": [
       "    Symbol    NAME      SCORE\n",
       "88     NaN    ACP1  10.655144\n",
       "354    NaN   C1QBP  13.114568\n",
       "403    NaN    PCNA  13.705776\n",
       "406    NaN    PFKP  13.754307\n",
       "426    NaN    MTDH  14.049484\n",
       "497    NaN    ENO1  15.826998\n",
       "507    NaN   TGFB1  16.503178\n",
       "510    NaN   GAPDH  16.606325\n",
       "521    NaN  SLC2A3  16.992449\n",
       "522    NaN   BIRC5  17.017273\n",
       "592    NaN    LDHA  22.457441\n",
       "595    NaN     PKM  22.771986\n",
       "609    NaN    PIM2  30.288067"
      ]
     },
     "execution_count": 611,
     "metadata": {},
     "output_type": "execute_result"
    }
   ],
   "source": [
    "df = pd.read_excel('GlyUpMatch.xlsx')\n",
    "df.drop(df.columns[df.columns.str.contains('Unnamed',case = False)],axis = 1, inplace = True)\n",
    "result = df[df['NAME'].isin(list(df['Symbol']))]\n",
    "result"
   ]
  },
  {
   "cell_type": "code",
   "execution_count": 612,
   "metadata": {},
   "outputs": [],
   "source": [
    "writer = ExcelWriter('GlyUpGraph.xlsx')\n",
    "result.to_excel(writer,'Sheet1',index=False)\n",
    "writer.save()"
   ]
  },
  {
   "cell_type": "code",
   "execution_count": 613,
   "metadata": {},
   "outputs": [
    {
     "data": {
      "text/plain": [
       "Text(0, 1.12, 'Gly vs. RNASeq Matching Upregulated Genes')"
      ]
     },
     "execution_count": 613,
     "metadata": {},
     "output_type": "execute_result"
    },
    {
     "data": {
      "image/png": "[encoded data removed]",
      "text/plain": [
       "<Figure size 576x288 with 1 Axes>"
      ]
     },
     "metadata": {
      "needs_background": "light"
     },
     "output_type": "display_data"
    }
   ],
   "source": [
    "df = pd.read_excel('GlyUpGraph.xlsx', usecols =['NAME', 'SCORE'])\n",
    "fig, ax = plt.subplots(figsize=(8, 4))\n",
    "ax.barh(df['NAME'], df['SCORE'])\n",
    "ax.text(0, 1.12, 'Gly vs. RNASeq Matching Upregulated Genes',\n",
    "            transform=ax.transAxes, size=24, weight=600, ha='left')"
   ]
  },
  {
   "cell_type": "code",
   "execution_count": 614,
   "metadata": {},
   "outputs": [],
   "source": [
    "writer = pd.ExcelWriter('GlyDownMatch.xlsx')\n",
    "df_Gly.to_excel(writer,'Sheet1', startrow=0 , startcol=0)\n",
    "df_low.to_excel(writer,'Sheet1', startrow=0, startcol=2)\n",
    "writer.save()"
   ]
  },
  {
   "cell_type": "code",
   "execution_count": 615,
   "metadata": {},
   "outputs": [
    {
     "data": {
      "text/html": [
       "<div>\n",
       "<style scoped>\n",
       "    .dataframe tbody tr th:only-of-type {\n",
       "        vertical-align: middle;\n",
       "    }\n",
       "\n",
       "    .dataframe tbody tr th {\n",
       "        vertical-align: top;\n",
       "    }\n",
       "\n",
       "    .dataframe thead th {\n",
       "        text-align: right;\n",
       "    }\n",
       "</style>\n",
       "<table border=\"1\" class=\"dataframe\">\n",
       "  <thead>\n",
       "    <tr style=\"text-align: right;\">\n",
       "      <th></th>\n",
       "      <th>Symbol</th>\n",
       "      <th>NAME</th>\n",
       "      <th>SCORE</th>\n",
       "    </tr>\n",
       "  </thead>\n",
       "  <tbody>\n",
       "    <tr>\n",
       "      <td>252</td>\n",
       "      <td>NaN</td>\n",
       "      <td>MLXIP</td>\n",
       "      <td>-12.262503</td>\n",
       "    </tr>\n",
       "    <tr>\n",
       "      <td>357</td>\n",
       "      <td>NaN</td>\n",
       "      <td>PTEN</td>\n",
       "      <td>-10.370646</td>\n",
       "    </tr>\n",
       "    <tr>\n",
       "      <td>989</td>\n",
       "      <td>NaN</td>\n",
       "      <td>PFKFB2</td>\n",
       "      <td>-6.107767</td>\n",
       "    </tr>\n",
       "    <tr>\n",
       "      <td>1081</td>\n",
       "      <td>NaN</td>\n",
       "      <td>CASP1</td>\n",
       "      <td>-5.765456</td>\n",
       "    </tr>\n",
       "    <tr>\n",
       "      <td>1231</td>\n",
       "      <td>NaN</td>\n",
       "      <td>FOXO3</td>\n",
       "      <td>-5.278526</td>\n",
       "    </tr>\n",
       "    <tr>\n",
       "      <td>1633</td>\n",
       "      <td>NaN</td>\n",
       "      <td>UCP3</td>\n",
       "      <td>-4.293165</td>\n",
       "    </tr>\n",
       "    <tr>\n",
       "      <td>1706</td>\n",
       "      <td>NaN</td>\n",
       "      <td>GAPDHS</td>\n",
       "      <td>-4.144747</td>\n",
       "    </tr>\n",
       "    <tr>\n",
       "      <td>2422</td>\n",
       "      <td>NaN</td>\n",
       "      <td>TSC1</td>\n",
       "      <td>-3.027697</td>\n",
       "    </tr>\n",
       "    <tr>\n",
       "      <td>2893</td>\n",
       "      <td>NaN</td>\n",
       "      <td>IDH1</td>\n",
       "      <td>-2.471252</td>\n",
       "    </tr>\n",
       "    <tr>\n",
       "      <td>3008</td>\n",
       "      <td>NaN</td>\n",
       "      <td>BRAF</td>\n",
       "      <td>-2.364711</td>\n",
       "    </tr>\n",
       "    <tr>\n",
       "      <td>4191</td>\n",
       "      <td>NaN</td>\n",
       "      <td>TNFSF13B</td>\n",
       "      <td>-1.399962</td>\n",
       "    </tr>\n",
       "    <tr>\n",
       "      <td>4252</td>\n",
       "      <td>NaN</td>\n",
       "      <td>PFKFB4</td>\n",
       "      <td>-1.352259</td>\n",
       "    </tr>\n",
       "    <tr>\n",
       "      <td>4453</td>\n",
       "      <td>NaN</td>\n",
       "      <td>ACMSD</td>\n",
       "      <td>-1.231546</td>\n",
       "    </tr>\n",
       "  </tbody>\n",
       "</table>\n",
       "</div>"
      ],
      "text/plain": [
       "     Symbol      NAME      SCORE\n",
       "252     NaN     MLXIP -12.262503\n",
       "357     NaN      PTEN -10.370646\n",
       "989     NaN    PFKFB2  -6.107767\n",
       "1081    NaN     CASP1  -5.765456\n",
       "1231    NaN     FOXO3  -5.278526\n",
       "1633    NaN      UCP3  -4.293165\n",
       "1706    NaN    GAPDHS  -4.144747\n",
       "2422    NaN      TSC1  -3.027697\n",
       "2893    NaN      IDH1  -2.471252\n",
       "3008    NaN      BRAF  -2.364711\n",
       "4191    NaN  TNFSF13B  -1.399962\n",
       "4252    NaN    PFKFB4  -1.352259\n",
       "4453    NaN     ACMSD  -1.231546"
      ]
     },
     "execution_count": 615,
     "metadata": {},
     "output_type": "execute_result"
    }
   ],
   "source": [
    "df = pd.read_excel('GlyDownMatch.xlsx')\n",
    "df.drop(df.columns[df.columns.str.contains('Unnamed',case = False)],axis = 1, inplace = True)\n",
    "result = df[df['NAME'].isin(list(df['Symbol']))]\n",
    "result"
   ]
  },
  {
   "cell_type": "code",
   "execution_count": 616,
   "metadata": {},
   "outputs": [],
   "source": [
    "writer = ExcelWriter('GlyDownGraph.xlsx')\n",
    "result.to_excel(writer,'Sheet1',index=False)\n",
    "writer.save()"
   ]
  },
  {
   "cell_type": "code",
   "execution_count": 617,
   "metadata": {},
   "outputs": [
    {
     "data": {
      "text/plain": [
       "Text(0, 1.12, 'Gly vs. RNASeq Matching Downregulated Genes')"
      ]
     },
     "execution_count": 617,
     "metadata": {},
     "output_type": "execute_result"
    },
    {
     "data": {
      "image/png": "[encoded data removed]",
      "text/plain": [
       "<Figure size 576x288 with 1 Axes>"
      ]
     },
     "metadata": {
      "needs_background": "light"
     },
     "output_type": "display_data"
    }
   ],
   "source": [
    "df = pd.read_excel('GlyDownGraph.xlsx', usecols =['NAME', 'SCORE'])\n",
    "fig, ax = plt.subplots(figsize=(8, 4))\n",
    "ax.barh(df['NAME'], df['SCORE'])\n",
    "ax.text(0, 1.12, 'Gly vs. RNASeq Matching Downregulated Genes',\n",
    "            transform=ax.transAxes, size=24, weight=600, ha='left')"
   ]
  },
  {
   "cell_type": "code",
   "execution_count": null,
   "metadata": {},
   "outputs": [],
   "source": []
  },
  {
   "cell_type": "code",
   "execution_count": null,
   "metadata": {},
   "outputs": [],
   "source": []
  },
  {
   "cell_type": "code",
   "execution_count": null,
   "metadata": {},
   "outputs": [],
   "source": []
  },
  {
   "cell_type": "code",
   "execution_count": null,
   "metadata": {},
   "outputs": [],
   "source": []
  },
  {
   "cell_type": "code",
   "execution_count": null,
   "metadata": {},
   "outputs": [],
   "source": []
  }
 ],
 "metadata": {
  "kernelspec": {
   "display_name": "Python 3",
   "language": "python",
   "name": "python3"
  },
  "language_info": {
   "codemirror_mode": {
    "name": "ipython",
    "version": 3
   },
   "file_extension": ".py",
   "mimetype": "text/x-python",
   "name": "python",
   "nbconvert_exporter": "python",
   "pygments_lexer": "ipython3",
   "version": "3.7.4"
  }
 },
 "nbformat": 4,
 "nbformat_minor": 2
}
